{
 "cells": [
  {
   "cell_type": "code",
   "execution_count": 1,
   "metadata": {},
   "outputs": [],
   "source": [
    "import cirq\n",
    "import numpy as np\n",
    "import matplotlib.pyplot as plt\n",
    "from cirq.contrib.svg import SVGCircuit"
   ]
  },
  {
   "cell_type": "code",
   "execution_count": 2,
   "metadata": {},
   "outputs": [],
   "source": [
    "def bitstring(bits):\n",
    "    return ''.join('1' if e else '_' for e in bits)\n",
    "\n",
    "def init_qubits(x_bin, *qubits):\n",
    "    for x, q in zip(x_bin, list(qubits)[::-1]):\n",
    "        if x == '1':\n",
    "            yield cirq.X(q)\n",
    "\n",
    "def display(result, circuit, bit_string =True):\n",
    "    print(\"\\n\\nCircuit:\")\n",
    "    print(circuit)\n",
    "\n",
    "    x1 = np.array(result.measurements['x1'][:, 0])\n",
    "    x2 = np.array(result.measurements['x2'][:, 0])\n",
    "    c_in = np.array(result.measurements['ci'][:, 0])\n",
    "\n",
    "    s = np.array(result.measurements['sum'][:, 0])\n",
    "    c_out = np.array(result.measurements['carry_out'][:, 0])\n",
    "    \n",
    "    if bit_string:\n",
    "        x1 = bitstring(x1)\n",
    "        x2 = bitstring(x2)\n",
    "        c_in = bitstring(c_in)\n",
    "        s = bitstring(s)\n",
    "        c_out = bitstring(c_out)\n",
    "\n",
    "    print(\"\\n\\nResults:\")\n",
    "    print('x1:', x1)\n",
    "    print('x2:', x2)\n",
    "    print('carry_in:', c_in)\n",
    "    print('sum:', s)\n",
    "    print('carry_out:', c_out)"
   ]
  },
  {
   "cell_type": "code",
   "execution_count": 3,
   "metadata": {},
   "outputs": [],
   "source": [
    "def half_adder_deterministic(x):\n",
    "    qubits = cirq.LineQubit.range(3)\n",
    "    circuit = cirq.Circuit()\n",
    "\n",
    "    # initialize bits\n",
    "    x_bin = '{:08b}'.format(x)[-2:]\n",
    "    circuit.append([init_qubits(x_bin, *qubits[:2])])\n",
    "\n",
    "    circuit.append(half_adder_circuit(*qubits))\n",
    "    \n",
    "    return circuit\n",
    "\n",
    "def half_adder_random():\n",
    "    qubits = cirq.LineQubit.range(3)\n",
    "    circuit = cirq.Circuit()\n",
    "\n",
    "    # initialize bits\n",
    "    circuit.append([cirq.H(qubits[0]), cirq.H(qubits[1])])\n",
    "\n",
    "    circuit.append(half_adder_circuit(*qubits))\n",
    "    \n",
    "    return circuit\n",
    "\n",
    "def half_adder_circuit(*qubits):\n",
    "    \n",
    "    # measure inputs\n",
    "    m0 = cirq.Moment([cirq.measure(qubits[0], key='x1'),\n",
    "                      cirq.measure(qubits[1], key='x2'),\n",
    "                      cirq.measure(qubits[2], key='ci')])\n",
    "\n",
    "    # adder circuit\n",
    "    m1 = cirq.Moment([cirq.TOFFOLI(qubits[0], qubits[1], qubits[2])])\n",
    "    m2 = cirq.Moment([cirq.CNOT(qubits[0], qubits[1])])\n",
    "\n",
    "    # measure outputs\n",
    "    m3 = cirq.Moment([cirq.measure(qubits[1], key='sum'),\n",
    "                      cirq.measure(qubits[2], key='carry_out')])\n",
    "    \n",
    "    return (m0, m1, m2, m3)"
   ]
  },
  {
   "cell_type": "code",
   "execution_count": 4,
   "metadata": {},
   "outputs": [
    {
     "name": "stdout",
     "output_type": "stream",
     "text": [
      "\n",
      "\n",
      "Circuit:\n",
      "0: ───M('x1')───@───@────────────────────\n",
      "                │   │\n",
      "1: ───M('x2')───@───X───M('sum')─────────\n",
      "                │\n",
      "2: ───M('ci')───X───────M('carry_out')───\n",
      "\n",
      "\n",
      "Results:\n",
      "x1: [0 0 0 0 0]\n",
      "x2: [0 0 0 0 0]\n",
      "carry_in: [0 0 0 0 0]\n",
      "sum: [0 0 0 0 0]\n",
      "carry_out: [0 0 0 0 0]\n",
      "\n",
      "\n",
      "Circuit:\n",
      "0: ───X───M('x1')───@───@────────────────────\n",
      "                    │   │\n",
      "1: ───────M('x2')───@───X───M('sum')─────────\n",
      "                    │\n",
      "2: ───────M('ci')───X───────M('carry_out')───\n",
      "\n",
      "\n",
      "Results:\n",
      "x1: [1 1 1 1 1]\n",
      "x2: [0 0 0 0 0]\n",
      "carry_in: [0 0 0 0 0]\n",
      "sum: [1 1 1 1 1]\n",
      "carry_out: [0 0 0 0 0]\n",
      "\n",
      "\n",
      "Circuit:\n",
      "0: ───────M('x1')───@───@────────────────────\n",
      "                    │   │\n",
      "1: ───X───M('x2')───@───X───M('sum')─────────\n",
      "                    │\n",
      "2: ───────M('ci')───X───────M('carry_out')───\n",
      "\n",
      "\n",
      "Results:\n",
      "x1: [0 0 0 0 0]\n",
      "x2: [1 1 1 1 1]\n",
      "carry_in: [0 0 0 0 0]\n",
      "sum: [1 1 1 1 1]\n",
      "carry_out: [0 0 0 0 0]\n",
      "\n",
      "\n",
      "Circuit:\n",
      "0: ───X───M('x1')───@───@────────────────────\n",
      "                    │   │\n",
      "1: ───X───M('x2')───@───X───M('sum')─────────\n",
      "                    │\n",
      "2: ───────M('ci')───X───────M('carry_out')───\n",
      "\n",
      "\n",
      "Results:\n",
      "x1: [1 1 1 1 1]\n",
      "x2: [1 1 1 1 1]\n",
      "carry_in: [0 0 0 0 0]\n",
      "sum: [0 0 0 0 0]\n",
      "carry_out: [1 1 1 1 1]\n"
     ]
    }
   ],
   "source": [
    "for i in range(4):\n",
    "    simulator = cirq.Simulator()\n",
    "    circuit = half_adder_deterministic(i)\n",
    "    result = simulator.run(circuit, repetitions=5)\n",
    "    display(result, circuit, False)"
   ]
  },
  {
   "cell_type": "code",
   "execution_count": 5,
   "metadata": {},
   "outputs": [
    {
     "name": "stdout",
     "output_type": "stream",
     "text": [
      "\n",
      "\n",
      "Circuit:\n",
      "0: ───H───M('x1')───@───@────────────────────\n",
      "                    │   │\n",
      "1: ───H───M('x2')───@───X───M('sum')─────────\n",
      "                    │\n",
      "2: ───────M('ci')───X───────M('carry_out')───\n",
      "\n",
      "\n",
      "Results:\n",
      "x1: [0 0 0 0 0 0 1 0 1 0]\n",
      "x2: [0 0 1 1 0 1 1 1 0 0]\n",
      "carry_in: [0 0 0 0 0 0 0 0 0 0]\n",
      "sum: [0 0 1 1 0 1 0 1 1 0]\n",
      "carry_out: [0 0 0 0 0 0 1 0 0 0]\n",
      "\n",
      "\n",
      "\n"
     ]
    },
    {
     "data": {
      "image/svg+xml": [
       "<svg xmlns=\"http://www.w3.org/2000/svg\" width=\"462.71875\" height=\"150.0\"><line x1=\"30.0\" x2=\"432.71875\" y1=\"25.0\" y2=\"25.0\" stroke=\"#1967d2\" stroke-width=\"1\" /><line x1=\"30.0\" x2=\"432.71875\" y1=\"75.0\" y2=\"75.0\" stroke=\"#1967d2\" stroke-width=\"1\" /><line x1=\"30.0\" x2=\"432.71875\" y1=\"125.0\" y2=\"125.0\" stroke=\"#1967d2\" stroke-width=\"1\" /><line x1=\"219.5732421875\" x2=\"219.5732421875\" y1=\"25.0\" y2=\"125.0\" stroke=\"black\" stroke-width=\"3\" /><line x1=\"279.5732421875\" x2=\"279.5732421875\" y1=\"25.0\" y2=\"75.0\" stroke=\"black\" stroke-width=\"3\" /><rect x=\"10.0\" y=\"5.0\" width=\"40\" height=\"40\" stroke=\"black\" fill=\"white\" stroke-width=\"0\" /><text x=\"30.0\" y=\"25.0\" dominant-baseline=\"middle\" text-anchor=\"middle\" font-size=\"14px\">0: </text><rect x=\"10.0\" y=\"55.0\" width=\"40\" height=\"40\" stroke=\"black\" fill=\"white\" stroke-width=\"0\" /><text x=\"30.0\" y=\"75.0\" dominant-baseline=\"middle\" text-anchor=\"middle\" font-size=\"14px\">1: </text><rect x=\"10.0\" y=\"105.0\" width=\"40\" height=\"40\" stroke=\"black\" fill=\"white\" stroke-width=\"0\" /><text x=\"30.0\" y=\"125.0\" dominant-baseline=\"middle\" text-anchor=\"middle\" font-size=\"14px\">2: </text><rect x=\"70.0\" y=\"5.0\" width=\"40\" height=\"40\" stroke=\"black\" fill=\"white\" stroke-width=\"1\" /><text x=\"90.0\" y=\"25.0\" dominant-baseline=\"middle\" text-anchor=\"middle\" font-size=\"18px\">H</text><rect x=\"70.0\" y=\"55.0\" width=\"40\" height=\"40\" stroke=\"black\" fill=\"white\" stroke-width=\"1\" /><text x=\"90.0\" y=\"75.0\" dominant-baseline=\"middle\" text-anchor=\"middle\" font-size=\"18px\">H</text><rect x=\"130.0\" y=\"5.0\" width=\"49.5732421875\" height=\"40\" stroke=\"black\" fill=\"white\" stroke-width=\"1\" /><text x=\"154.78662109375\" y=\"25.0\" dominant-baseline=\"middle\" text-anchor=\"middle\" font-size=\"14px\">M('x1')</text><rect x=\"130.0\" y=\"55.0\" width=\"49.5732421875\" height=\"40\" stroke=\"black\" fill=\"white\" stroke-width=\"1\" /><text x=\"154.78662109375\" y=\"75.0\" dominant-baseline=\"middle\" text-anchor=\"middle\" font-size=\"14px\">M('x2')</text><rect x=\"130.0\" y=\"105.0\" width=\"49.5732421875\" height=\"40\" stroke=\"black\" fill=\"white\" stroke-width=\"1\" /><text x=\"154.78662109375\" y=\"125.0\" dominant-baseline=\"middle\" text-anchor=\"middle\" font-size=\"14px\">M('ci')</text><circle cx=\"219.5732421875\" cy=\"25.0\" r=\"10.0\" /><circle cx=\"219.5732421875\" cy=\"75.0\" r=\"10.0\" /><rect x=\"199.5732421875\" y=\"105.0\" width=\"40\" height=\"40\" stroke=\"black\" fill=\"white\" stroke-width=\"1\" /><text x=\"219.5732421875\" y=\"125.0\" dominant-baseline=\"middle\" text-anchor=\"middle\" font-size=\"18px\">X</text><circle cx=\"279.5732421875\" cy=\"25.0\" r=\"10.0\" /><rect x=\"259.5732421875\" y=\"55.0\" width=\"40\" height=\"40\" stroke=\"black\" fill=\"white\" stroke-width=\"1\" /><text x=\"279.5732421875\" y=\"75.0\" dominant-baseline=\"middle\" text-anchor=\"middle\" font-size=\"18px\">X</text><rect x=\"319.5732421875\" y=\"55.0\" width=\"93.14550781250001\" height=\"40\" stroke=\"black\" fill=\"white\" stroke-width=\"1\" /><text x=\"366.14599609375\" y=\"75.0\" dominant-baseline=\"middle\" text-anchor=\"middle\" font-size=\"14px\">M('sum')</text><rect x=\"319.5732421875\" y=\"105.0\" width=\"93.14550781250001\" height=\"40\" stroke=\"black\" fill=\"white\" stroke-width=\"1\" /><text x=\"366.14599609375\" y=\"125.0\" dominant-baseline=\"middle\" text-anchor=\"middle\" font-size=\"14px\">M('carry_out')</text></svg>"
      ],
      "text/plain": [
       "<cirq.contrib.svg.svg.SVGCircuit at 0x27608802188>"
      ]
     },
     "execution_count": 5,
     "metadata": {},
     "output_type": "execute_result"
    }
   ],
   "source": [
    "reps = 10\n",
    "simulator = cirq.Simulator()\n",
    "circuit = half_adder_random()\n",
    "result = simulator.run(circuit, repetitions=reps)\n",
    "\n",
    "display(result, circuit, False)\n",
    "print(\"\\n\\n\")\n",
    "SVGCircuit(circuit)"
   ]
  },
  {
   "cell_type": "code",
   "execution_count": 6,
   "metadata": {},
   "outputs": [],
   "source": [
    "x1 = np.array(result.measurements['x1'][:, 0])\n",
    "x2 = np.array(result.measurements['x2'][:, 0])\n",
    "c_in = np.array(result.measurements['ci'][:, 0])\n",
    "\n",
    "s = np.array(result.measurements['sum'][:, 0])\n",
    "c_out = np.array(result.measurements['carry_out'][:, 0])"
   ]
  },
  {
   "cell_type": "code",
   "execution_count": 7,
   "metadata": {},
   "outputs": [
    {
     "data": {
      "image/png": "[encoded data removed]",
      "text/plain": [
       "<Figure size 1152x288 with 1 Axes>"
      ]
     },
     "metadata": {
      "needs_background": "light"
     },
     "output_type": "display_data"
    }
   ],
   "source": [
    "res = np.vstack([x1, x2, s, c_out])\n",
    "\n",
    "plt.rcParams[\"figure.figsize\"] = (16,4)\n",
    "plt.rcParams[\"font.size\"] = 12\n",
    "fig, ax = plt.subplots()\n",
    "\n",
    "im = ax.imshow(res, cmap='Pastel1')\n",
    "\n",
    "ax.set_xticks(np.arange(reps))\n",
    "ax.set_yticks(np.arange(4))\n",
    "\n",
    "ax.set_xticklabels([str(x) for x in range(1, reps + 1)])\n",
    "ax.set_yticklabels(['a', 'b', 'sum', 'carry'])\n",
    "\n",
    "ax.set_xlabel('# iteration')\n",
    "ax.set_ylabel('variable')\n",
    "\n",
    "for i in range(4):\n",
    "    for j in range(reps):\n",
    "        text = ax.text(j, i, res[i, j],\n",
    "                       ha=\"center\", va=\"center\", color=\"0\")\n",
    "\n",
    "for edge, spine in ax.spines.items():\n",
    "    spine.set_visible(False)\n",
    "\n",
    "fig.tight_layout()"
   ]
  },
  {
   "cell_type": "code",
   "execution_count": null,
   "metadata": {},
   "outputs": [],
   "source": []
  }
 ],
 "metadata": {
  "kernelspec": {
   "display_name": "Python 3",
   "language": "python",
   "name": "python3"
  },
  "language_info": {
   "codemirror_mode": {
    "name": "ipython",
    "version": 3
   },
   "file_extension": ".py",
   "mimetype": "text/x-python",
   "name": "python",
   "nbconvert_exporter": "python",
   "pygments_lexer": "ipython3",
   "version": "3.7.6"
  }
 },
 "nbformat": 4,
 "nbformat_minor": 4
}
