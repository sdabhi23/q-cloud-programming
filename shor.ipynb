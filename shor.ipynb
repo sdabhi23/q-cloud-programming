{
 "cells": [
  {
   "cell_type": "code",
   "execution_count": 1,
   "metadata": {},
   "outputs": [
    {
     "name": "stdout",
     "output_type": "stream",
     "text": [
      "C:\\Users\\DSB4KOR\\Desktop\\projects\\quantum_computing\\shor\n"
     ]
    }
   ],
   "source": [
    "%cd shor"
   ]
  },
  {
   "cell_type": "code",
   "execution_count": 4,
   "metadata": {},
   "outputs": [
    {
     "name": "stdout",
     "output_type": "stream",
     "text": [
      "^C\n",
      "Factoring 25\n",
      "y: 13\n",
      "c: 307; r: 10\n",
      "factor: 18\n",
      "f1: 1; f2: 1\n",
      "trivial factor, continuing\n",
      "y: 7\n",
      "c: 0; r: 1\n",
      "r odd; continuing\n",
      "y: 19\n",
      "c: 307; r: 10\n",
      "factor: 24\n",
      "trivial factor; continuing\n",
      "y: 9\n",
      "c: 0; r: 1\n",
      "r odd; continuing\n",
      "y: 6\n",
      "c: 819; r: 5\n",
      "r odd; continuing\n",
      "y: 19\n",
      "c: 820; r: 5\n",
      "r odd; continuing\n",
      "y: 19\n",
      "c: 717; r: 10\n",
      "factor: 24\n",
      "trivial factor; continuing\n",
      "y: 6\n",
      "c: 819; r: 5\n",
      "r odd; continuing\n",
      "y: 3\n",
      "c: 102; r: 10\n",
      "factor: 18\n",
      "f1: 1; f2: 1\n",
      "trivial factor, continuing\n",
      "y: 11\n",
      "c: 205; r: 5\n",
      "r odd; continuing\n",
      "y: 22\n",
      "c: 102; r: 10\n",
      "factor: 7\n",
      "f1: 1; f2: 1\n",
      "trivial factor, continuing\n",
      "y: 3\n",
      "c: 921; r: 10\n",
      "factor: 18\n",
      "f1: 1; f2: 1\n",
      "trivial factor, continuing\n",
      "y: 3\n",
      "c: 410; r: 5\n",
      "r odd; continuing\n",
      "y: 24\n",
      "c: 512; r: 2\n",
      "factor: 24\n",
      "trivial factor; continuing\n",
      "y: 9\n",
      "c: 410; r: 5\n",
      "r odd; continuing\n",
      "y: 13\n",
      "c: 973; r: 20\n",
      "factor: 24\n",
      "trivial factor; continuing\n",
      "y: 9\n",
      "c: 490; r: 23\n",
      "r odd; continuing\n",
      "y: 12\n",
      "c: 973; r: 20\n",
      "factor: 24\n",
      "trivial factor; continuing\n",
      "y: 19\n",
      "c: 607; r: 22\n",
      "factor: 19\n",
      "f1: 1; f2: 5\n",
      "Factorization: (5, 5)\n"
     ]
    }
   ],
   "source": [
    "!python shor.py 25"
   ]
  },
  {
   "cell_type": "code",
   "execution_count": null,
   "metadata": {},
   "outputs": [],
   "source": []
  }
 ],
 "metadata": {
  "kernelspec": {
   "display_name": "Python 3",
   "language": "python",
   "name": "python3"
  },
  "language_info": {
   "codemirror_mode": {
    "name": "ipython",
    "version": 3
   },
   "file_extension": ".py",
   "mimetype": "text/x-python",
   "name": "python",
   "nbconvert_exporter": "python",
   "pygments_lexer": "ipython3",
   "version": "3.7.6"
  }
 },
 "nbformat": 4,
 "nbformat_minor": 4
}
