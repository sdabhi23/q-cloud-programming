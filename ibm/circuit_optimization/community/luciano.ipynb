{
  "cells": [
    {
      "cell_type": "code",
      "source": [
        "#%pip install -I git+https://github.com/qiskit-community/may4_challenge.git@0.4.30\n",
        "#packages\n",
        "from qiskit import QuantumCircuit, Aer, execute\n",
        "from may4_challenge.ex4 import get_unitary,check_circuit, submit_circuit\n",
        "import numpy as np\n",
        "from IPython.core.display import display, HTML\n",
        "from qiskit.visualization import *\n",
        "display(HTML(\"<style>.container { width:100% !important; }</style>\"))\n",
        "np.set_printoptions(linewidth=500)\n",
        "%precision 4\n",
        "unitary_simulator = Aer.get_backend('unitary_simulator')\n",
        "U = get_unitary()"
      ],
      "outputs": [
        {
          "output_type": "display_data",
          "data": {
            "text/html": [
              "<style>.container { width:100% !important; }</style>"
            ],
            "text/plain": [
              "<IPython.core.display.HTML object>"
            ]
          },
          "metadata": {}
        }
      ],
      "execution_count": 2,
      "metadata": {}
    },
    {
      "cell_type": "code",
      "source": [
        "#Some useful functions\n",
        "def my_fun(A):\n",
        "    \"\"\"\n",
        "    takes a complex number and sets its real or imaginary parts to \n",
        "    zero if they are less than 1e-15.\n",
        "    IN \n",
        "        A: complex number\n",
        "    OUT\n",
        "        reA+1j*imA: complex number\n",
        "    \"\"\"\n",
        "    reA = np.real(A)\n",
        "    imA = np.imag(A)\n",
        "    reA[np.abs(reA)<1e-15]=0\n",
        "    imA[np.abs(imA)<1e-15]=0\n",
        "    return reA+1j*imA\n",
        "\n",
        "def get_angles_u3(U):    \n",
        "    \"\"\"\n",
        "    Take the unitary matrix U, and obtain the \n",
        "    angles theta, phi, lamb for the u3 gate.\n",
        "    Besides, obtain its global phase glob.\n",
        "    IN\n",
        "        U: Unitary matrix\n",
        "    Out\n",
        "        [theta,phi,lamb,glob]: 4 real numbers\n",
        "    \"\"\"\n",
        "    glob = np.angle(U[0,0])/np.pi\n",
        "    U = U*np.exp(-1j*glob*np.pi)\n",
        "    theta = np.real( 2*np.arccos(U[0,0]) )/np.pi\n",
        "    phi = np.real( np.log( U[1,0]/np.sin(theta/2) )/1j )/np.pi\n",
        "    lamb = np.real( np.log( -U[0,1]/np.sin(theta/2) )/1j )/np.pi\n",
        "    return [theta,phi,lamb,glob]\n",
        "\n",
        "def u3_matrix(angles):\n",
        "    \"\"\"\n",
        "    Take angles = [theta,phi,lamb], to construct\n",
        "    their respective u3 matrix.\n",
        "    IN\n",
        "        angles : 3 real numbers\n",
        "    Out\n",
        "        U : Unitary matrix\n",
        "    \"\"\"\n",
        "    theta = angles[0]\n",
        "    phi = angles[1]\n",
        "    lamb = angles[2]\n",
        "    U = np.array( [np.cos(theta/2), -np.exp(1j*lamb)*np.sin(theta/2) , np.exp(1j*phi)*np.sin(theta/2),np.exp(1j*lamb+1j*phi)*np.cos(theta/2) ]).reshape(2,2)\n",
        "    return U"
      ],
      "outputs": [],
      "execution_count": 3,
      "metadata": {}
    },
    {
      "cell_type": "markdown",
      "source": [
        "# My solution for the Exercise 4 of the IBM Quantum Challenge 2020.\n",
        "## Luciano Pereira, IFF-CSIC, Spain.\n",
        "\n",
        "Here I will discuss the technique I used to obtain the solution from exercise 4 of the IBM Quantum Challenge 2020. Before starting, I would like to emphasize that although I was certain that the method I used would lead to a solution, I never thought it would give such good results, so I think I was pretty lucky. \n",
        "\n",
        "The challenge was to find an accurate and efficient decomposition $V$ of a given unitary operation $U$ using only $u3$ operations and C-Nots. With \"accurate\" we mean that the transformation $V$ must have an error $||U-V||$ of less than $0.01$, where $||A|| = \\max_{\\langle\\psi|\\psi\\rangle=1}\\left| A|\\psi\\rangle\\right|.$ On the other hand, with \"efficient\" we mean the circuit that minimizes the number of operations used, which was quantified by the formula $cost = n_{cx}+n_{u3}$, where $n_{u3}$ is the number of $u3$ gates and $n_{cx}$ is the number of C-NOTs. The $u3$ gate is a one-qubit gate defined by\n",
        "\n",
        "$$u_3(\\theta,\\phi,\\lambda) = \\begin{pmatrix} \\cos(\\theta/2) & -e^{i\\lambda}\\sin(\\theta/2)\\\\ e^{i\\theta}\\sin(\\theta/2) & e^{i\\lambda+i\\phi}\\cos(\\theta/2) \\end{pmatrix}. $$\n",
        "\n",
        "The angles are free parameters that we can choose, so that we can implement any operation of one qubit with $u3$! The C-NOT is a two qubit operation given by\n",
        "$$cx = |0\\rangle\\langle0|\\otimes I + |1\\rangle\\langle1|\\otimes X = \\begin{pmatrix} I & 0 \\\\ 0 & X \\end{pmatrix},$$\n",
        "where $I$ is the identity matrix and $X$ is the NOT gate,\n",
        "$$I=\\begin{pmatrix} 1 & 0\\\\0&1\\end{pmatrix}, \\qquad X=\\begin{pmatrix} 0 & 1 \\\\ 1 & 0\\end{pmatrix}.$$\n",
        "Since we are working in a multi-qubit system, $u3(\\theta,\\phi,\\lambda,n)$ represent a $u3$ gate on the qubit $n$, while $cx(c,t)$ represent a C-NOT with control qubit $c$ and target qubit $t$.\n",
        "\n",
        "\n",
        "The technique I used is based on the following preposition: Consider a unitary matrix $U$, and sets of unitary operations $\\{ L_j, R_k \\}$ such that\n",
        "\n",
        "$$L_mL_{m-1}\\cdots L_2L_1 U R_1 R_2\\cdots R_{m-1}R_m = I. \\tag{1}$$\n",
        "Then, we have the following decomposition of $U$,\n",
        "$$U = L_1^\\dagger L_2^\\dagger \\cdots L_{m-1}^\\dagger L_{m}^\\dagger R_m^\\dagger R_{m-1}^\\dagger \\cdots R_2^\\dagger R_1^\\dagger. \\tag{2}$$\n",
        "\n",
        "How do we choose the operations $\\{ L_j \\}$ and $\\{ R_k \\}$? A convenient way to choose the operations is one in which U is sequentially diagonalized. We define the unitary matrix in the iteration $k$ as $U_k$, with $U_k = L_kU_{k-1}R_k$ and $U_0=U$. Clearly, this is not a novel  observation. I do not know if this idea is currently used to find decompositions of unitary operations in quantum processors, but it was proposed to construct universal multiport interferometers with $2\\times2$ balanced beam splitters, which is a similar problem. Note that this procedure searches an exact decomposition for $U$.\n",
        "\n",
        "The second important observation is the tensor product structure of the space. For example, let $V$ and $W$ two qubit operations, whose tensor product is given by\n",
        "\n",
        "$$ V\\otimes W = \\begin{pmatrix} V_{11}W & V_{12}W \\\\ V_{21} W & V_{22} W \\end{pmatrix}, \\label{TensorProdct}\\tag{3} $$\n",
        "\n",
        "where $V_{jk}$ are the matrix elements of $V$. Here we should note that observing the block structure of the resulting matrix, we can obtain information about the initial local operations. Thereby, seeing the corresponding blocks will help us to diagonalize the operations on each individual qubit. We say that we block-diagonalize the last qubit (remember that the qubits are in inverted order, that is $|q_4\\rangle\\otimes|q_3\\rangle\\otimes|q_2\\rangle\\otimes|q_1\\rangle$) in the iteration $k$ if the unitary matrix in the iteration $k$ has the form\n",
        "\n",
        "$$U_k = |0\\rangle\\langle0|\\otimes A + |1\\rangle\\langle1|\\otimes B = \\begin{pmatrix} A&0\\\\0&B \\end{pmatrix}, \\label{U_block_diag} \\tag{4}$$\n",
        "\n",
        "where $A$ and $B$ are arbitrary operation of the remaining qubit. We can obtain the corresponding block-diagonalized matrix for another qubits permuting the subsystem in the last equation. \n",
        "\n",
        "The last observation is about the controlled operation. If we are in the case of a block-diagonal matrix and $A\\neq B$, we have to use a controlled operation. We have to perform the controlled transformations that decouple the qubits, in order to get a unitary with the form\n",
        "$$U_{k+1} = I\\otimes C = \\begin{pmatrix} C & 0 \\\\ 0 & C \\end{pmatrix},$$\n",
        "with $C$ another unitary matrix of the remaining qubits. In this step, we will reduce the space of the problem, and it is enough apply again the same protocol until we have one qubit. \n",
        "\n",
        "Before continuing, I would like to comment on a few more things. First, in many places in the solution I perform a transformation thanks to the matrix symmetries. To notice these symmetries, I used to look at the absolute value and the phases of each coefficient of the matrix separately. Second, in many steps I only define the gates $ \\ R_k $, and not the $ L_j $. This means that in these iterations we simply consider $ L_j = I^{\\otimes 4} $.\n",
        "\n"
      ],
      "metadata": {}
    },
    {
      "cell_type": "markdown",
      "source": [
        "Let start seeing the transformation $U$. For display purposes, I print it by blocks,"
      ],
      "metadata": {}
    },
    {
      "cell_type": "code",
      "source": [
        "print(U[:8,:8])\n",
        "print('')\n",
        "print(U[8:,8:])\n",
        "print('')\n",
        "print(U[:8,8:])\n",
        "print('')\n",
        "print(U[8:,:8])"
      ],
      "outputs": [
        {
          "output_type": "stream",
          "name": "stdout",
          "text": [
            "[[-0.2134+0.3384j -0.1402-0.0884j  0.2134-0.0884j  0.0366+0.0884j  0.0884-0.0366j -0.0884-0.2134j -0.0884+0.1402j  0.3384+0.2134j]\n",
            " [-0.1402-0.0884j -0.2134+0.3384j  0.0366+0.0884j  0.2134-0.0884j -0.0884-0.2134j  0.0884-0.0366j  0.3384+0.2134j -0.0884+0.1402j]\n",
            " [ 0.2134-0.0884j  0.0366+0.0884j -0.2134+0.3384j -0.1402-0.0884j -0.0884+0.1402j  0.3384+0.2134j  0.0884-0.0366j -0.0884-0.2134j]\n",
            " [ 0.0366+0.0884j  0.2134-0.0884j -0.1402-0.0884j -0.2134+0.3384j  0.3384+0.2134j -0.0884+0.1402j -0.0884-0.2134j  0.0884-0.0366j]\n",
            " [ 0.0884-0.0366j -0.0884-0.2134j -0.0884+0.1402j  0.3384+0.2134j -0.2134+0.3384j -0.1402-0.0884j  0.2134-0.0884j  0.0366+0.0884j]\n",
            " [-0.0884-0.2134j  0.0884-0.0366j  0.3384+0.2134j -0.0884+0.1402j -0.1402-0.0884j -0.2134+0.3384j  0.0366+0.0884j  0.2134-0.0884j]\n",
            " [-0.0884+0.1402j  0.3384+0.2134j  0.0884-0.0366j -0.0884-0.2134j  0.2134-0.0884j  0.0366+0.0884j -0.2134+0.3384j -0.1402-0.0884j]\n",
            " [ 0.3384+0.2134j -0.0884+0.1402j -0.0884-0.2134j  0.0884-0.0366j  0.0366+0.0884j  0.2134-0.0884j -0.1402-0.0884j -0.2134+0.3384j]]\n",
            "\n",
            "[[-0.2134+0.3384j -0.1402-0.0884j  0.2134-0.0884j  0.0366+0.0884j  0.0884-0.0366j -0.0884-0.2134j -0.0884+0.1402j  0.3384+0.2134j]\n",
            " [-0.1402-0.0884j -0.2134+0.3384j  0.0366+0.0884j  0.2134-0.0884j -0.0884-0.2134j  0.0884-0.0366j  0.3384+0.2134j -0.0884+0.1402j]\n",
            " [ 0.2134-0.0884j  0.0366+0.0884j -0.2134+0.3384j -0.1402-0.0884j -0.0884+0.1402j  0.3384+0.2134j  0.0884-0.0366j -0.0884-0.2134j]\n",
            " [ 0.0366+0.0884j  0.2134-0.0884j -0.1402-0.0884j -0.2134+0.3384j  0.3384+0.2134j -0.0884+0.1402j -0.0884-0.2134j  0.0884-0.0366j]\n",
            " [ 0.0884-0.0366j -0.0884-0.2134j -0.0884+0.1402j  0.3384+0.2134j -0.2134+0.3384j -0.1402-0.0884j  0.2134-0.0884j  0.0366+0.0884j]\n",
            " [-0.0884-0.2134j  0.0884-0.0366j  0.3384+0.2134j -0.0884+0.1402j -0.1402-0.0884j -0.2134+0.3384j  0.0366+0.0884j  0.2134-0.0884j]\n",
            " [-0.0884+0.1402j  0.3384+0.2134j  0.0884-0.0366j -0.0884-0.2134j  0.2134-0.0884j  0.0366+0.0884j -0.2134+0.3384j -0.1402-0.0884j]\n",
            " [ 0.3384+0.2134j -0.0884+0.1402j -0.0884-0.2134j  0.0884-0.0366j  0.0366+0.0884j  0.2134-0.0884j -0.1402-0.0884j -0.2134+0.3384j]]\n",
            "\n",
            "[[ 0.2134-0.0884j  0.0366+0.0884j  0.3902+0.0884j -0.0366+0.1616j  0.1616+0.0366j  0.0884-0.3902j  0.0884-0.0366j -0.0884-0.2134j]\n",
            " [ 0.0366+0.0884j  0.2134-0.0884j -0.0366+0.1616j  0.3902+0.0884j  0.0884-0.3902j  0.1616+0.0366j -0.0884-0.2134j  0.0884-0.0366j]\n",
            " [ 0.3902+0.0884j -0.0366+0.1616j  0.2134-0.0884j  0.0366+0.0884j  0.0884-0.0366j -0.0884-0.2134j  0.1616+0.0366j  0.0884-0.3902j]\n",
            " [-0.0366+0.1616j  0.3902+0.0884j  0.0366+0.0884j  0.2134-0.0884j -0.0884-0.2134j  0.0884-0.0366j  0.0884-0.3902j  0.1616+0.0366j]\n",
            " [ 0.1616+0.0366j  0.0884-0.3902j  0.0884-0.0366j -0.0884-0.2134j  0.2134-0.0884j  0.0366+0.0884j  0.3902+0.0884j -0.0366+0.1616j]\n",
            " [ 0.0884-0.3902j  0.1616+0.0366j -0.0884-0.2134j  0.0884-0.0366j  0.0366+0.0884j  0.2134-0.0884j -0.0366+0.1616j  0.3902+0.0884j]\n",
            " [ 0.0884-0.0366j -0.0884-0.2134j  0.1616+0.0366j  0.0884-0.3902j  0.3902+0.0884j -0.0366+0.1616j  0.2134-0.0884j  0.0366+0.0884j]\n",
            " [-0.0884-0.2134j  0.0884-0.0366j  0.0884-0.3902j  0.1616+0.0366j -0.0366+0.1616j  0.3902+0.0884j  0.0366+0.0884j  0.2134-0.0884j]]\n",
            "\n",
            "[[ 0.2134-0.0884j  0.0366+0.0884j  0.3902+0.0884j -0.0366+0.1616j  0.1616+0.0366j  0.0884-0.3902j  0.0884-0.0366j -0.0884-0.2134j]\n",
            " [ 0.0366+0.0884j  0.2134-0.0884j -0.0366+0.1616j  0.3902+0.0884j  0.0884-0.3902j  0.1616+0.0366j -0.0884-0.2134j  0.0884-0.0366j]\n",
            " [ 0.3902+0.0884j -0.0366+0.1616j  0.2134-0.0884j  0.0366+0.0884j  0.0884-0.0366j -0.0884-0.2134j  0.1616+0.0366j  0.0884-0.3902j]\n",
            " [-0.0366+0.1616j  0.3902+0.0884j  0.0366+0.0884j  0.2134-0.0884j -0.0884-0.2134j  0.0884-0.0366j  0.0884-0.3902j  0.1616+0.0366j]\n",
            " [ 0.1616+0.0366j  0.0884-0.3902j  0.0884-0.0366j -0.0884-0.2134j  0.2134-0.0884j  0.0366+0.0884j  0.3902+0.0884j -0.0366+0.1616j]\n",
            " [ 0.0884-0.3902j  0.1616+0.0366j -0.0884-0.2134j  0.0884-0.0366j  0.0366+0.0884j  0.2134-0.0884j -0.0366+0.1616j  0.3902+0.0884j]\n",
            " [ 0.0884-0.0366j -0.0884-0.2134j  0.1616+0.0366j  0.0884-0.3902j  0.3902+0.0884j -0.0366+0.1616j  0.2134-0.0884j  0.0366+0.0884j]\n",
            " [-0.0884-0.2134j  0.0884-0.0366j  0.0884-0.3902j  0.1616+0.0366j -0.0366+0.1616j  0.3902+0.0884j  0.0366+0.0884j  0.2134-0.0884j]]\n"
          ]
        }
      ],
      "execution_count": 4,
      "metadata": {}
    },
    {
      "cell_type": "markdown",
      "source": [
        "With a simply glance we can see that this has the following form\n",
        "$$U_0 = \\begin{pmatrix}A&B\\\\B&A\\end{pmatrix},$$\n",
        "where $A$ and $B$ matrices of 3 qubits. Thereby, we can write the matrix as \n",
        "$$U_0 = I\\otimes A + X \\otimes B. \\tag{5}$$\n",
        "\n",
        "Here we notice that the last qubit can be block diagonalized by Hadamard operations $H$,\n",
        "\n",
        "$$U_0 = \\Big[H\\otimes I^{\\otimes 3}\\Big]\\Big[I\\otimes A + Z\\otimes B \\Big]\\Big[H\\otimes I^{\\otimes 3}\\Big] = \\Big[H\\otimes I^{\\otimes 3}\\Big]\\begin{pmatrix}A+B&0\\\\0&A-B\\end{pmatrix}\\Big[H\\otimes I^{\\otimes 3}\\Big] , \\tag{6}$$\n",
        "\n",
        "with\n",
        "$$H = \\frac{1}{\\sqrt{2}}\\begin{pmatrix} 1 & 1 \\\\ 1 & -1 \\end{pmatrix},\\qquad Z = \\begin{pmatrix} 1 & 0 \\\\ 0 & -1 \\end{pmatrix}.$$\n",
        "\n",
        "Therefore, choosing $L_1=R_1=H\\otimes I^{\\otimes 3}=u3(\\pi/2,0,\\pi,3)$, we obtain a block-diagonal matrix!\n",
        "\n",
        "$$U_1 =  \\begin{pmatrix}A_1&0\\\\0&B_1\\end{pmatrix},$$\n",
        "where $A_1=A+B$ and $A_2=A-B$. We have a matrix with form of the equation (4)!"
      ],
      "metadata": {}
    },
    {
      "cell_type": "code",
      "source": [
        "H = np.array([1,1,1,-1]).reshape(2,2)/np.sqrt(2)\n",
        "L1 = np.kron( H, np.eye(2**3) )\n",
        "R1 = L1\n",
        "U1 = L1@U@R1\n",
        "U1 = my_fun(U1)"
      ],
      "outputs": [],
      "execution_count": 5,
      "metadata": {}
    },
    {
      "cell_type": "code",
      "source": [
        "print(U1[:8,:8])\n",
        "print('')\n",
        "print(U1[8:,8:])\n",
        "print('')\n",
        "print(U1[:8,8:])\n",
        "print('')\n",
        "print(U1[8:,:8])"
      ],
      "outputs": [
        {
          "output_type": "stream",
          "name": "stdout",
          "text": [
            "[[ 0.    +0.25j   -0.1036+0.j      0.6036+0.j      0.    +0.25j    0.25  +0.j      0.    -0.6036j  0.    +0.1036j  0.25  +0.j    ]\n",
            " [-0.1036+0.j      0.    +0.25j    0.    +0.25j    0.6036+0.j      0.    -0.6036j  0.25  +0.j      0.25  +0.j      0.    +0.1036j]\n",
            " [ 0.6036+0.j      0.    +0.25j    0.    +0.25j   -0.1036+0.j      0.    +0.1036j  0.25  +0.j      0.25  +0.j      0.    -0.6036j]\n",
            " [ 0.    +0.25j    0.6036+0.j     -0.1036+0.j      0.    +0.25j    0.25  +0.j      0.    +0.1036j  0.    -0.6036j  0.25  +0.j    ]\n",
            " [ 0.25  +0.j      0.    -0.6036j  0.    +0.1036j  0.25  +0.j      0.    +0.25j   -0.1036+0.j      0.6036+0.j      0.    +0.25j  ]\n",
            " [ 0.    -0.6036j  0.25  +0.j      0.25  +0.j      0.    +0.1036j -0.1036+0.j      0.    +0.25j    0.    +0.25j    0.6036+0.j    ]\n",
            " [ 0.    +0.1036j  0.25  +0.j      0.25  +0.j      0.    -0.6036j  0.6036+0.j      0.    +0.25j    0.    +0.25j   -0.1036+0.j    ]\n",
            " [ 0.25  +0.j      0.    +0.1036j  0.    -0.6036j  0.25  +0.j      0.    +0.25j    0.6036+0.j     -0.1036+0.j      0.    +0.25j  ]]\n",
            "\n",
            "[[-0.4268+0.4268j -0.1768-0.1768j -0.1768-0.1768j  0.0732-0.0732j -0.0732-0.0732j -0.1768+0.1768j -0.1768+0.1768j  0.4268+0.4268j]\n",
            " [-0.1768-0.1768j -0.4268+0.4268j  0.0732-0.0732j -0.1768-0.1768j -0.1768+0.1768j -0.0732-0.0732j  0.4268+0.4268j -0.1768+0.1768j]\n",
            " [-0.1768-0.1768j  0.0732-0.0732j -0.4268+0.4268j -0.1768-0.1768j -0.1768+0.1768j  0.4268+0.4268j -0.0732-0.0732j -0.1768+0.1768j]\n",
            " [ 0.0732-0.0732j -0.1768-0.1768j -0.1768-0.1768j -0.4268+0.4268j  0.4268+0.4268j -0.1768+0.1768j -0.1768+0.1768j -0.0732-0.0732j]\n",
            " [-0.0732-0.0732j -0.1768+0.1768j -0.1768+0.1768j  0.4268+0.4268j -0.4268+0.4268j -0.1768-0.1768j -0.1768-0.1768j  0.0732-0.0732j]\n",
            " [-0.1768+0.1768j -0.0732-0.0732j  0.4268+0.4268j -0.1768+0.1768j -0.1768-0.1768j -0.4268+0.4268j  0.0732-0.0732j -0.1768-0.1768j]\n",
            " [-0.1768+0.1768j  0.4268+0.4268j -0.0732-0.0732j -0.1768+0.1768j -0.1768-0.1768j  0.0732-0.0732j -0.4268+0.4268j -0.1768-0.1768j]\n",
            " [ 0.4268+0.4268j -0.1768+0.1768j -0.1768+0.1768j -0.0732-0.0732j  0.0732-0.0732j -0.1768-0.1768j -0.1768-0.1768j -0.4268+0.4268j]]\n",
            "\n",
            "[[0.+0.j 0.+0.j 0.+0.j 0.+0.j 0.+0.j 0.+0.j 0.+0.j 0.+0.j]\n",
            " [0.+0.j 0.+0.j 0.+0.j 0.+0.j 0.+0.j 0.+0.j 0.+0.j 0.+0.j]\n",
            " [0.+0.j 0.+0.j 0.+0.j 0.+0.j 0.+0.j 0.+0.j 0.+0.j 0.+0.j]\n",
            " [0.+0.j 0.+0.j 0.+0.j 0.+0.j 0.+0.j 0.+0.j 0.+0.j 0.+0.j]\n",
            " [0.+0.j 0.+0.j 0.+0.j 0.+0.j 0.+0.j 0.+0.j 0.+0.j 0.+0.j]\n",
            " [0.+0.j 0.+0.j 0.+0.j 0.+0.j 0.+0.j 0.+0.j 0.+0.j 0.+0.j]\n",
            " [0.+0.j 0.+0.j 0.+0.j 0.+0.j 0.+0.j 0.+0.j 0.+0.j 0.+0.j]\n",
            " [0.+0.j 0.+0.j 0.+0.j 0.+0.j 0.+0.j 0.+0.j 0.+0.j 0.+0.j]]\n",
            "\n",
            "[[0.+0.j 0.+0.j 0.+0.j 0.+0.j 0.+0.j 0.+0.j 0.+0.j 0.+0.j]\n",
            " [0.+0.j 0.+0.j 0.+0.j 0.+0.j 0.+0.j 0.+0.j 0.+0.j 0.+0.j]\n",
            " [0.+0.j 0.+0.j 0.+0.j 0.+0.j 0.+0.j 0.+0.j 0.+0.j 0.+0.j]\n",
            " [0.+0.j 0.+0.j 0.+0.j 0.+0.j 0.+0.j 0.+0.j 0.+0.j 0.+0.j]\n",
            " [0.+0.j 0.+0.j 0.+0.j 0.+0.j 0.+0.j 0.+0.j 0.+0.j 0.+0.j]\n",
            " [0.+0.j 0.+0.j 0.+0.j 0.+0.j 0.+0.j 0.+0.j 0.+0.j 0.+0.j]\n",
            " [0.+0.j 0.+0.j 0.+0.j 0.+0.j 0.+0.j 0.+0.j 0.+0.j 0.+0.j]\n",
            " [0.+0.j 0.+0.j 0.+0.j 0.+0.j 0.+0.j 0.+0.j 0.+0.j 0.+0.j]]\n"
          ]
        }
      ],
      "execution_count": 6,
      "metadata": {}
    },
    {
      "cell_type": "markdown",
      "source": [
        "Now, given that $A_1\\neq B_1$, we are facing a controlled operation. Noticing that $B_1 = e^{3i\\pi/4}A_1(I \\otimes X\\otimes I)$, we can write $U_1$ as\n",
        "\n",
        "$$U_1 = |0\\rangle\\langle 0| \\otimes A_1 + e^{3i\\pi/4}|1\\rangle\\langle 1| \\otimes A_1(I \\otimes X\\otimes I),$$\n",
        "or equivalently\n",
        "$$U_1 = \\begin{pmatrix} A_1 & 0 \\\\ 0 & e^{3i\\pi/4}A_1(I \\otimes X\\otimes I)\\end{pmatrix} = \\begin{pmatrix} A_1&0\\\\ 0&A_1\\end{pmatrix} \\begin{pmatrix}I^{\\otimes 3}&0\\\\0&e^{3i\\pi/4}I^{\\otimes 3}\\end{pmatrix}\\begin{pmatrix} I^{\\otimes 3} & 0 \\\\ 0 & I \\otimes X\\otimes I\\end{pmatrix}.$$\n",
        "\n",
        "Then, choosing $R_2=diag(1,e^{-3i\\pi/4})\\otimes I^{\\otimes 3}=u3(0,0,-3\\pi/4,3)$ and $R_3=|0\\rangle\\langle 0| \\otimes I^{\\otimes 3} +|1\\rangle\\langle 1| \\otimes I \\otimes X\\otimes I=cx(3,1)$, we full diagonalize the last qubit,\n",
        "\n",
        "$$U_3 = I\\otimes A_1 = \\begin{pmatrix} A_1&0\\\\ 0&A_1\\end{pmatrix} .$$"
      ],
      "metadata": {}
    },
    {
      "cell_type": "code",
      "source": [
        "G = np.array([1,0,0,0]).reshape(2,2)\n",
        "E = np.array([0,0,0,1]).reshape(2,2)\n",
        "X = np.array([0,1,1,0]).reshape(2,2)\n",
        "R2 = np.kron(G,np.eye(2**3))+np.kron(np.exp(-3j*np.pi/4)*E,np.eye(2**3) )\n",
        "R3 =np.kron(G,np.eye(2**3))+np.kron(E,np.kron(np.eye(2),np.kron(X,np.eye(2)))) \n",
        "\n",
        "U3 = my_fun(U1@R2@R3)"
      ],
      "outputs": [],
      "execution_count": 7,
      "metadata": {}
    },
    {
      "cell_type": "code",
      "source": [
        "print(U3[:8,:8])\n",
        "print('')\n",
        "print(U3[8:,8:])\n",
        "print('')\n",
        "print(U3[:8,8:])\n",
        "print('')\n",
        "print(U3[8:,:8])"
      ],
      "outputs": [
        {
          "output_type": "stream",
          "name": "stdout",
          "text": [
            "[[ 0.    +0.25j   -0.1036+0.j      0.6036+0.j      0.    +0.25j    0.25  +0.j      0.    -0.6036j  0.    +0.1036j  0.25  +0.j    ]\n",
            " [-0.1036+0.j      0.    +0.25j    0.    +0.25j    0.6036+0.j      0.    -0.6036j  0.25  +0.j      0.25  +0.j      0.    +0.1036j]\n",
            " [ 0.6036+0.j      0.    +0.25j    0.    +0.25j   -0.1036+0.j      0.    +0.1036j  0.25  +0.j      0.25  +0.j      0.    -0.6036j]\n",
            " [ 0.    +0.25j    0.6036+0.j     -0.1036+0.j      0.    +0.25j    0.25  +0.j      0.    +0.1036j  0.    -0.6036j  0.25  +0.j    ]\n",
            " [ 0.25  +0.j      0.    -0.6036j  0.    +0.1036j  0.25  +0.j      0.    +0.25j   -0.1036+0.j      0.6036+0.j      0.    +0.25j  ]\n",
            " [ 0.    -0.6036j  0.25  +0.j      0.25  +0.j      0.    +0.1036j -0.1036+0.j      0.    +0.25j    0.    +0.25j    0.6036+0.j    ]\n",
            " [ 0.    +0.1036j  0.25  +0.j      0.25  +0.j      0.    -0.6036j  0.6036+0.j      0.    +0.25j    0.    +0.25j   -0.1036+0.j    ]\n",
            " [ 0.25  +0.j      0.    +0.1036j  0.    -0.6036j  0.25  +0.j      0.    +0.25j    0.6036+0.j     -0.1036+0.j      0.    +0.25j  ]]\n",
            "\n",
            "[[ 0.    +0.25j   -0.1036+0.j      0.6036+0.j      0.    +0.25j    0.25  +0.j      0.    -0.6036j  0.    +0.1036j  0.25  +0.j    ]\n",
            " [-0.1036+0.j      0.    +0.25j    0.    +0.25j    0.6036+0.j      0.    -0.6036j  0.25  +0.j      0.25  +0.j      0.    +0.1036j]\n",
            " [ 0.6036+0.j      0.    +0.25j    0.    +0.25j   -0.1036+0.j      0.    +0.1036j  0.25  +0.j      0.25  +0.j      0.    -0.6036j]\n",
            " [ 0.    +0.25j    0.6036+0.j     -0.1036+0.j      0.    +0.25j    0.25  +0.j      0.    +0.1036j  0.    -0.6036j  0.25  +0.j    ]\n",
            " [ 0.25  +0.j      0.    -0.6036j  0.    +0.1036j  0.25  +0.j      0.    +0.25j   -0.1036+0.j      0.6036+0.j      0.    +0.25j  ]\n",
            " [ 0.    -0.6036j  0.25  +0.j      0.25  +0.j      0.    +0.1036j -0.1036+0.j      0.    +0.25j    0.    +0.25j    0.6036+0.j    ]\n",
            " [ 0.    +0.1036j  0.25  +0.j      0.25  +0.j      0.    -0.6036j  0.6036+0.j      0.    +0.25j    0.    +0.25j   -0.1036+0.j    ]\n",
            " [ 0.25  +0.j      0.    +0.1036j  0.    -0.6036j  0.25  +0.j      0.    +0.25j    0.6036+0.j     -0.1036+0.j      0.    +0.25j  ]]\n",
            "\n",
            "[[0.+0.j 0.+0.j 0.+0.j 0.+0.j 0.+0.j 0.+0.j 0.+0.j 0.+0.j]\n",
            " [0.+0.j 0.+0.j 0.+0.j 0.+0.j 0.+0.j 0.+0.j 0.+0.j 0.+0.j]\n",
            " [0.+0.j 0.+0.j 0.+0.j 0.+0.j 0.+0.j 0.+0.j 0.+0.j 0.+0.j]\n",
            " [0.+0.j 0.+0.j 0.+0.j 0.+0.j 0.+0.j 0.+0.j 0.+0.j 0.+0.j]\n",
            " [0.+0.j 0.+0.j 0.+0.j 0.+0.j 0.+0.j 0.+0.j 0.+0.j 0.+0.j]\n",
            " [0.+0.j 0.+0.j 0.+0.j 0.+0.j 0.+0.j 0.+0.j 0.+0.j 0.+0.j]\n",
            " [0.+0.j 0.+0.j 0.+0.j 0.+0.j 0.+0.j 0.+0.j 0.+0.j 0.+0.j]\n",
            " [0.+0.j 0.+0.j 0.+0.j 0.+0.j 0.+0.j 0.+0.j 0.+0.j 0.+0.j]]\n",
            "\n",
            "[[0.+0.j 0.+0.j 0.+0.j 0.+0.j 0.+0.j 0.+0.j 0.+0.j 0.+0.j]\n",
            " [0.+0.j 0.+0.j 0.+0.j 0.+0.j 0.+0.j 0.+0.j 0.+0.j 0.+0.j]\n",
            " [0.+0.j 0.+0.j 0.+0.j 0.+0.j 0.+0.j 0.+0.j 0.+0.j 0.+0.j]\n",
            " [0.+0.j 0.+0.j 0.+0.j 0.+0.j 0.+0.j 0.+0.j 0.+0.j 0.+0.j]\n",
            " [0.+0.j 0.+0.j 0.+0.j 0.+0.j 0.+0.j 0.+0.j 0.+0.j 0.+0.j]\n",
            " [0.+0.j 0.+0.j 0.+0.j 0.+0.j 0.+0.j 0.+0.j 0.+0.j 0.+0.j]\n",
            " [0.+0.j 0.+0.j 0.+0.j 0.+0.j 0.+0.j 0.+0.j 0.+0.j 0.+0.j]\n",
            " [0.+0.j 0.+0.j 0.+0.j 0.+0.j 0.+0.j 0.+0.j 0.+0.j 0.+0.j]]\n"
          ]
        }
      ],
      "execution_count": 8,
      "metadata": {}
    },
    {
      "cell_type": "markdown",
      "source": [
        "Because it is no longer necessary to consider the last qubit, we remove it by defining $U_3 = A_1$.\n"
      ],
      "metadata": {}
    },
    {
      "cell_type": "code",
      "source": [
        "#Reducing a qubit\n",
        "U3 = my_fun(U3[:8,:8])\n",
        "U3"
      ],
      "outputs": [
        {
          "output_type": "execute_result",
          "execution_count": 9,
          "data": {
            "text/plain": [
              "array([[ 0.    +0.25j  , -0.1036+0.j    ,  0.6036+0.j    ,  0.    +0.25j  ,  0.25  +0.j    ,  0.    -0.6036j,  0.    +0.1036j,  0.25  +0.j    ],\n",
              "       [-0.1036+0.j    ,  0.    +0.25j  ,  0.    +0.25j  ,  0.6036+0.j    ,  0.    -0.6036j,  0.25  +0.j    ,  0.25  +0.j    ,  0.    +0.1036j],\n",
              "       [ 0.6036+0.j    ,  0.    +0.25j  ,  0.    +0.25j  , -0.1036+0.j    ,  0.    +0.1036j,  0.25  +0.j    ,  0.25  +0.j    ,  0.    -0.6036j],\n",
              "       [ 0.    +0.25j  ,  0.6036+0.j    , -0.1036+0.j    ,  0.    +0.25j  ,  0.25  +0.j    ,  0.    +0.1036j,  0.    -0.6036j,  0.25  +0.j    ],\n",
              "       [ 0.25  +0.j    ,  0.    -0.6036j,  0.    +0.1036j,  0.25  +0.j    ,  0.    +0.25j  , -0.1036+0.j    ,  0.6036+0.j    ,  0.    +0.25j  ],\n",
              "       [ 0.    -0.6036j,  0.25  +0.j    ,  0.25  +0.j    ,  0.    +0.1036j, -0.1036+0.j    ,  0.    +0.25j  ,  0.    +0.25j  ,  0.6036+0.j    ],\n",
              "       [ 0.    +0.1036j,  0.25  +0.j    ,  0.25  +0.j    ,  0.    -0.6036j,  0.6036+0.j    ,  0.    +0.25j  ,  0.    +0.25j  , -0.1036+0.j    ],\n",
              "       [ 0.25  +0.j    ,  0.    +0.1036j,  0.    -0.6036j,  0.25  +0.j    ,  0.    +0.25j  ,  0.6036+0.j    , -0.1036+0.j    ,  0.    +0.25j  ]])"
            ]
          },
          "metadata": {}
        }
      ],
      "execution_count": 9,
      "metadata": {}
    },
    {
      "cell_type": "markdown",
      "source": [
        "We have a 3-qubit transformation. For simplicity, now we try to diagonalize the first qubit. I think this step is not fundamental in the protocol, but it helped me to visualize the matrix better, since it is clearly easier to see a matrix with a lot of zeros. Taking the first $2\\times 2$ block of $U_3$, we can check if it is a unitary matrix times a coefficient, like in the equation (3). We obtain that actually it is! so we diagonalize the first qubit with the following $R_4=u3(\\pi/4,\\pi/2,-\\pi/2,0)$ operation"
      ],
      "metadata": {}
    },
    {
      "cell_type": "code",
      "source": [
        "R4 = U3[0:2,0:2]\n",
        "print(R4@R4.conj().T)\n",
        "R4 = np.kron(np.eye(2**2), R4.conj().T/np.sqrt( (R4@R4.conj().T)[0,0] ) )\n"
      ],
      "outputs": [
        {
          "output_type": "stream",
          "name": "stdout",
          "text": [
            "[[0.0732+0.j 0.    +0.j]\n",
            " [0.    +0.j 0.0732+0.j]]\n"
          ]
        }
      ],
      "execution_count": 10,
      "metadata": {}
    },
    {
      "cell_type": "code",
      "source": [
        "U4 = my_fun( U3@R4 )\n",
        "print(U4[:4,:4])\n",
        "print('')\n",
        "print(U4[4:,4:])\n",
        "print('')\n",
        "print(U4[:4,4:])\n",
        "print('')\n",
        "print(U4[4:,:4])"
      ],
      "outputs": [
        {
          "output_type": "stream",
          "name": "stdout",
          "text": [
            "[[0.2706+0.j     0.    +0.j     0.    -0.6533j 0.    +0.j    ]\n",
            " [0.    +0.j     0.2706+0.j     0.    +0.j     0.    -0.6533j]\n",
            " [0.    -0.6533j 0.    +0.j     0.2706+0.j     0.    +0.j    ]\n",
            " [0.    +0.j     0.    -0.6533j 0.    +0.j     0.2706+0.j    ]]\n",
            "\n",
            "[[0.2706+0.j     0.    +0.j     0.    -0.6533j 0.    +0.j    ]\n",
            " [0.    +0.j     0.2706+0.j     0.    +0.j     0.    -0.6533j]\n",
            " [0.    -0.6533j 0.    +0.j     0.2706+0.j     0.    +0.j    ]\n",
            " [0.    +0.j     0.    -0.6533j 0.    +0.j     0.2706+0.j    ]]\n",
            "\n",
            "[[ 0.    +0.j     -0.6533+0.j      0.    +0.j      0.    -0.2706j]\n",
            " [-0.6533+0.j      0.    +0.j      0.    -0.2706j  0.    +0.j    ]\n",
            " [ 0.    +0.j      0.    -0.2706j  0.    +0.j     -0.6533+0.j    ]\n",
            " [ 0.    -0.2706j  0.    +0.j     -0.6533+0.j      0.    +0.j    ]]\n",
            "\n",
            "[[ 0.    +0.j     -0.6533+0.j      0.    +0.j      0.    -0.2706j]\n",
            " [-0.6533+0.j      0.    +0.j      0.    -0.2706j  0.    +0.j    ]\n",
            " [ 0.    +0.j      0.    -0.2706j  0.    +0.j     -0.6533+0.j    ]\n",
            " [ 0.    -0.2706j  0.    +0.j     -0.6533+0.j      0.    +0.j    ]]\n"
          ]
        }
      ],
      "execution_count": 11,
      "metadata": {}
    },
    {
      "cell_type": "markdown",
      "source": [
        "We can see that $U_4$ can be written as\n",
        "$$U_4 = I \\otimes A_4 + X \\otimes B_4 \\begin{pmatrix} A_4 & B_4 \\\\ B_4 & A_4 \\end{pmatrix},$$\n",
        "\n",
        "which is the same situation as for the previous qubit! See equation (5). In this case $A_4$ and $B_4$ are 2-qubit matrices. We know that it can be diagonalized by two Hadamards, like in equation (6),\n",
        "\n",
        "$$U_4 = \\Big[H\\otimes I^{\\otimes 2}\\Big]\\begin{pmatrix}A_4+B_4&0\\\\0&A_4-B_4\\end{pmatrix}\\Big[H\\otimes I^{\\otimes 2}\\Big],$$\n",
        "\n",
        "Then, we choose $L_5=R_5=H\\otimes I^{\\otimes 2}=u3(\\pi/2,0,\\pi,2)$. Remember that we are omitting the fourth qubit, so that in that system the operations have an identity. We obatin the following matrix after apply $L_5$ and $R_5$,\n",
        "$$ U_5 = \\begin{pmatrix} A_5 & 0 \\\\ 0 & B_5 \\end{pmatrix}, $$\n",
        "with $A_5 = A_4 + B_4$ and $B_5 = A_4 - B_4$."
      ],
      "metadata": {}
    },
    {
      "cell_type": "code",
      "source": [
        "L5 = np.kron(H,np.eye(2**2))\n",
        "R5 = L5\n",
        "U5 = my_fun( L5@U4@R5 )\n",
        "U5"
      ],
      "outputs": [
        {
          "output_type": "execute_result",
          "execution_count": 12,
          "data": {
            "text/plain": [
              "array([[ 0.2706+0.j    , -0.6533+0.j    ,  0.    -0.6533j,  0.    -0.2706j,  0.    +0.j    ,  0.    +0.j    ,  0.    +0.j    ,  0.    +0.j    ],\n",
              "       [-0.6533+0.j    ,  0.2706+0.j    ,  0.    -0.2706j,  0.    -0.6533j,  0.    +0.j    ,  0.    +0.j    ,  0.    +0.j    ,  0.    +0.j    ],\n",
              "       [ 0.    -0.6533j,  0.    -0.2706j,  0.2706+0.j    , -0.6533+0.j    ,  0.    +0.j    ,  0.    +0.j    ,  0.    +0.j    ,  0.    +0.j    ],\n",
              "       [ 0.    -0.2706j,  0.    -0.6533j, -0.6533+0.j    ,  0.2706+0.j    ,  0.    +0.j    ,  0.    +0.j    ,  0.    +0.j    ,  0.    +0.j    ],\n",
              "       [ 0.    +0.j    ,  0.    +0.j    ,  0.    +0.j    ,  0.    +0.j    ,  0.2706+0.j    ,  0.6533+0.j    ,  0.    -0.6533j,  0.    +0.2706j],\n",
              "       [ 0.    +0.j    ,  0.    +0.j    ,  0.    +0.j    ,  0.    +0.j    ,  0.6533+0.j    ,  0.2706+0.j    ,  0.    +0.2706j,  0.    -0.6533j],\n",
              "       [ 0.    +0.j    ,  0.    +0.j    ,  0.    +0.j    ,  0.    +0.j    ,  0.    -0.6533j,  0.    +0.2706j,  0.2706+0.j    ,  0.6533+0.j    ],\n",
              "       [ 0.    +0.j    ,  0.    +0.j    ,  0.    +0.j    ,  0.    +0.j    ,  0.    +0.2706j,  0.    -0.6533j,  0.6533+0.j    ,  0.2706+0.j    ]])"
            ]
          },
          "metadata": {}
        }
      ],
      "execution_count": 12,
      "metadata": {}
    },
    {
      "cell_type": "markdown",
      "source": [
        "We have again a matrix with the form (4), thereby we have to figure out the corresponding controlled transformation. Noticing that $B_5 =[I\\otimes Z]A_5[I\\otimes Z]$, we can write\n",
        "\n",
        "$$U_5 = \\Big[ |0\\rangle\\langle0|\\otimes I^{\\otimes 2} + |1\\rangle\\langle1|\\otimes I \\otimes Z\\Big]\\begin{pmatrix}A_5&0\\\\0&A_5 \\end{pmatrix} \\Big[ |0\\rangle\\langle0|\\otimes I^{\\otimes 2} + |1\\rangle\\langle1|\\otimes I\\otimes Z\\Big],  $$\n",
        "or equivalently,\n",
        "$$U_5 = \\begin{pmatrix} I^{\\otimes 2} & 0 \\\\ 0 & I \\otimes Z \\end{pmatrix} \\begin{pmatrix}A_5&0\\\\0&A_5 \\end{pmatrix} \\begin{pmatrix} I^{\\otimes 2} & 0 \\\\ 0 & I \\otimes Z \\end{pmatrix} . $$\n",
        "\n",
        "Choosing $L_6=R_6=|0\\rangle\\langle0|\\otimes I^{\\otimes 2} + |1\\rangle\\langle1| \\otimes I\\otimes Z$, we obtain \n",
        "$$U_6 = I\\otimes A_5,$$\n",
        "and then, we can remove another qubit. The operation $L_6$ can be implemented by the following circuit:\n",
        "\n"
      ],
      "metadata": {}
    },
    {
      "cell_type": "code",
      "source": [
        "qc_cz = QuantumCircuit(2)\n",
        "qc_cz.h(1)\n",
        "qc_cz.cx(0,1)\n",
        "qc_cz.h(1)\n",
        "qc_cz.draw()"
      ],
      "outputs": [
        {
          "output_type": "execute_result",
          "execution_count": 13,
          "data": {
            "image/png": "[encoded data removed]",
            "text/plain": [
              "<Figure size 358.792x144.48 with 1 Axes>"
            ]
          },
          "metadata": {}
        }
      ],
      "execution_count": 13,
      "metadata": {}
    },
    {
      "cell_type": "code",
      "source": [
        "Z = np.array([1,0,0,-1]).reshape(2,2)\n",
        "L6 = np.kron(G,np.eye(2**2))+np.kron(E,np.kron(np.eye(2),Z))\n",
        "R6 = L6\n",
        "U6 = L6@U5@R6\n",
        "U6"
      ],
      "outputs": [
        {
          "output_type": "execute_result",
          "execution_count": 14,
          "data": {
            "text/plain": [
              "array([[ 0.2706+0.j    , -0.6533+0.j    ,  0.    -0.6533j,  0.    -0.2706j,  0.    +0.j    ,  0.    +0.j    ,  0.    +0.j    ,  0.    +0.j    ],\n",
              "       [-0.6533+0.j    ,  0.2706+0.j    ,  0.    -0.2706j,  0.    -0.6533j,  0.    +0.j    ,  0.    +0.j    ,  0.    +0.j    ,  0.    +0.j    ],\n",
              "       [ 0.    -0.6533j,  0.    -0.2706j,  0.2706+0.j    , -0.6533+0.j    ,  0.    +0.j    ,  0.    +0.j    ,  0.    +0.j    ,  0.    +0.j    ],\n",
              "       [ 0.    -0.2706j,  0.    -0.6533j, -0.6533+0.j    ,  0.2706+0.j    ,  0.    +0.j    ,  0.    +0.j    ,  0.    +0.j    ,  0.    +0.j    ],\n",
              "       [ 0.    +0.j    ,  0.    +0.j    ,  0.    +0.j    ,  0.    +0.j    ,  0.2706+0.j    , -0.6533+0.j    ,  0.    -0.6533j,  0.    -0.2706j],\n",
              "       [ 0.    +0.j    ,  0.    +0.j    ,  0.    +0.j    ,  0.    +0.j    , -0.6533+0.j    ,  0.2706+0.j    ,  0.    -0.2706j,  0.    -0.6533j],\n",
              "       [ 0.    +0.j    ,  0.    +0.j    ,  0.    +0.j    ,  0.    +0.j    ,  0.    -0.6533j,  0.    -0.2706j,  0.2706+0.j    , -0.6533+0.j    ],\n",
              "       [ 0.    +0.j    ,  0.    +0.j    ,  0.    +0.j    ,  0.    +0.j    ,  0.    -0.2706j,  0.    -0.6533j, -0.6533+0.j    ,  0.2706+0.j    ]])"
            ]
          },
          "metadata": {}
        }
      ],
      "execution_count": 14,
      "metadata": {}
    },
    {
      "cell_type": "markdown",
      "source": [
        "Because it is no longer necessary to consider the third qubit, we remove it by defining $U_7 = A_5$."
      ],
      "metadata": {}
    },
    {
      "cell_type": "code",
      "source": [
        "U6 = U6[:4,:4]\n",
        "U6"
      ],
      "outputs": [
        {
          "output_type": "execute_result",
          "execution_count": 15,
          "data": {
            "text/plain": [
              "array([[ 0.2706+0.j    , -0.6533+0.j    ,  0.    -0.6533j,  0.    -0.2706j],\n",
              "       [-0.6533+0.j    ,  0.2706+0.j    ,  0.    -0.2706j,  0.    -0.6533j],\n",
              "       [ 0.    -0.6533j,  0.    -0.2706j,  0.2706+0.j    , -0.6533+0.j    ],\n",
              "       [ 0.    -0.2706j,  0.    -0.6533j, -0.6533+0.j    ,  0.2706+0.j    ]])"
            ]
          },
          "metadata": {}
        }
      ],
      "execution_count": 15,
      "metadata": {}
    },
    {
      "cell_type": "markdown",
      "source": [
        "We are again in the situation of the equation (5),\n",
        "$$ U_6 = I\\otimes A_6 + X\\otimes B_6 = \\begin{pmatrix} A_6 & B_6\\\\ B_6 & A_6 \\end{pmatrix}.$$\n",
        "We block diagonalize this operation with $L_7=R_7= H \\otimes I = u3(\\pi/2,0,\\pi,1)$, obtaining\n",
        "$$ U_7 = \\begin{pmatrix} A_6+B_6 & 0 \\\\ 0 & A_6-B_6 \\end{pmatrix}. $$"
      ],
      "metadata": {}
    },
    {
      "cell_type": "code",
      "source": [
        "L7 = np.kron(H,np.eye(2))\n",
        "R7 = L7\n",
        "U7 = my_fun(L7@U6@R7)\n",
        "U7"
      ],
      "outputs": [
        {
          "output_type": "execute_result",
          "execution_count": 16,
          "data": {
            "text/plain": [
              "array([[ 0.2706-0.6533j, -0.6533-0.2706j,  0.    +0.j    ,  0.    +0.j    ],\n",
              "       [-0.6533-0.2706j,  0.2706-0.6533j,  0.    +0.j    ,  0.    +0.j    ],\n",
              "       [ 0.    +0.j    ,  0.    +0.j    ,  0.2706+0.6533j, -0.6533+0.2706j],\n",
              "       [ 0.    +0.j    ,  0.    +0.j    , -0.6533+0.2706j,  0.2706+0.6533j]])"
            ]
          },
          "metadata": {}
        }
      ],
      "execution_count": 16,
      "metadata": {
        "scrolled": true
      }
    },
    {
      "cell_type": "markdown",
      "source": [
        "Diagonalizing the first qubit with the operation $R_8=u3(\\pi/2,-\\pi/2,\\pi/2,0)$, as well before"
      ],
      "metadata": {}
    },
    {
      "cell_type": "code",
      "source": [
        "R8 = U7[:2,:2]\n",
        "R8 = np.kron(np.eye(2), R8.conj().T/np.sqrt( (R8@R8.conj().T)[0,0] ) )\n",
        "U8 = my_fun( U7@R8 ) \n",
        "U8"
      ],
      "outputs": [
        {
          "output_type": "execute_result",
          "execution_count": 17,
          "data": {
            "text/plain": [
              "array([[ 1.    +0.j    ,  0.    +0.j    ,  0.    +0.j    ,  0.    +0.j    ],\n",
              "       [ 0.    +0.j    ,  1.    +0.j    ,  0.    +0.j    ,  0.    +0.j    ],\n",
              "       [ 0.    +0.j    ,  0.    +0.j    ,  0.    +0.j    , -0.7071-0.7071j],\n",
              "       [ 0.    +0.j    ,  0.    +0.j    , -0.7071-0.7071j,  0.    +0.j    ]])"
            ]
          },
          "metadata": {}
        }
      ],
      "execution_count": 17,
      "metadata": {}
    },
    {
      "cell_type": "markdown",
      "source": [
        "We only have to invert the last controlled operation to arrive to the identity matrix. "
      ],
      "metadata": {}
    },
    {
      "cell_type": "code",
      "source": [
        "Y = np.array([0,1,1,0]).reshape(2,2) \n",
        "R9 = np.kron(G,np.eye(2)) + np.kron(E,Y)\n",
        "R10 = np.kron( np.array([1,0,0,np.exp(3j*np.pi/4)]).reshape(2,2)  , np.eye(2) ) \n",
        "U10 = my_fun(U8@R9@R10  ) \n",
        "U10 "
      ],
      "outputs": [
        {
          "output_type": "execute_result",
          "execution_count": 18,
          "data": {
            "text/plain": [
              "array([[1.+0.j, 0.+0.j, 0.+0.j, 0.+0.j],\n",
              "       [0.+0.j, 1.+0.j, 0.+0.j, 0.+0.j],\n",
              "       [0.+0.j, 0.+0.j, 1.+0.j, 0.+0.j],\n",
              "       [0.+0.j, 0.+0.j, 0.+0.j, 1.+0.j]])"
            ]
          },
          "metadata": {}
        }
      ],
      "execution_count": 18,
      "metadata": {}
    },
    {
      "cell_type": "markdown",
      "source": [
        "Summarizing, we have found a set of operations that satisfy (1). Thereby, employing the equation (2), we can implement the transformation $U$. Finally, constructing the corresponding circuit,"
      ],
      "metadata": {}
    },
    {
      "cell_type": "code",
      "source": [
        "qc = QuantumCircuit(4)\n",
        "\n",
        "qc.u3(np.pi/2,0,np.pi,3) #H\n",
        "\n",
        "qc.u3(np.pi/2,0,np.pi,2) #H\n",
        "\n",
        "qc.u3(np.pi/2,0,np.pi,0) #\n",
        "qc.cx(2,0)               #CZ\n",
        "qc.u3(np.pi/2,0,np.pi,0) #\n",
        "\n",
        "qc.u3(np.pi/2,0,np.pi,1) #H\n",
        "\n",
        "qc.u3(0,0,-3*np.pi/4,1) #R10\n",
        "qc.cx(1,0) #CY\n",
        "\n",
        "qc.u3(np.pi/2,-np.pi/2,np.pi/2,0) #R8\n",
        "\n",
        "qc.u3(np.pi/2,0,np.pi,1) #H\n",
        "\n",
        "qc.u3(np.pi/2,0,np.pi,0) #\n",
        "qc.cx(2,0)               # CZ\n",
        "qc.u3(np.pi/2,0,np.pi,0) #\n",
        "\n",
        "qc.u3(np.pi/2,0,np.pi,2) #H\n",
        "\n",
        "qc.u3(np.pi/4,np.pi/2,-np.pi/2,0) #R4\n",
        "\n",
        "qc.cx(3,1)             # CX\n",
        "qc.u3(0,0,3*np.pi/4,3) #\n",
        "\n",
        "qc.u3(np.pi/2,0,np.pi,3) #H\n",
        "\n",
        "qc.draw() "
      ],
      "outputs": [
        {
          "output_type": "execute_result",
          "execution_count": 19,
          "data": {
            "image/png": "[encoded data removed]",
            "text/plain": [
              "<Figure size 1141.39x264.88 with 1 Axes>"
            ]
          },
          "metadata": {}
        }
      ],
      "execution_count": 19,
      "metadata": {}
    },
    {
      "cell_type": "markdown",
      "source": [
        "Cheking the solution."
      ],
      "metadata": {}
    },
    {
      "cell_type": "code",
      "source": [
        "check_circuit(qc)"
      ],
      "outputs": [
        {
          "output_type": "stream",
          "name": "stdout",
          "text": [
            "Circuit stats:\n",
            "||U-V||_2 = 1.6465907683819627e-15\n",
            "(U is the reference unitary, V is yours, and the global phase has been removed from both of them).\n",
            "Cost is 54\n",
            "\n",
            "Great! Your circuit meets all the constrains.\n",
            "Your score is 54. The lower, the better!\n",
            "Feel free to submit your answer and remember you can re-submit a new circuit at any time!\n"
          ]
        }
      ],
      "execution_count": 20,
      "metadata": {}
    },
    {
      "cell_type": "markdown",
      "source": [
        "The decomposition we found implements $ U $ with a very low error and a very good score of 54. Can we improve it? Of course! In first place, we can join two $u3$ gates as long as there is not a C-NOT between them."
      ],
      "metadata": {}
    },
    {
      "cell_type": "code",
      "source": [
        "get_angles_u3( u3_matrix([0,0,-3*np.pi/4])@u3_matrix([np.pi/2,0,np.pi]) )\n",
        "get_angles_u3( u3_matrix([np.pi/2,0,np.pi])@u3_matrix([np.pi/2,-np.pi/2,np.pi/2]) )\n",
        "get_angles_u3( u3_matrix([np.pi/4,np.pi/2,-np.pi/2])@u3_matrix([np.pi/2,0,np.pi]) )\n",
        "get_angles_u3( u3_matrix([np.pi/2,0,np.pi])@u3_matrix([0,0,3*np.pi/4]) )"
      ],
      "outputs": [
        {
          "output_type": "execute_result",
          "execution_count": 21,
          "data": {
            "text/plain": [
              "[0.5, 0.0, -0.2500000000000001, 0.0]"
            ]
          },
          "metadata": {}
        }
      ],
      "execution_count": 21,
      "metadata": {}
    },
    {
      "cell_type": "code",
      "source": [
        "qc = QuantumCircuit(4)\n",
        "\n",
        "qc.u3(np.pi/2,0,np.pi,3) \n",
        "qc.u3(np.pi/2,0,np.pi,2) \n",
        "qc.u3(np.pi/2,0,np.pi,0) \n",
        "qc.cx(2,0)               \n",
        "qc.u3(np.pi/2,0,np.pi,0) \n",
        "qc.u3(np.pi/2,-3*np.pi/4,np.pi,1) \n",
        "qc.cx(1,0) \n",
        "qc.u3(np.pi/2,np.pi/2,np.pi,0) \n",
        "qc.u3(np.pi/2,0,np.pi,1) \n",
        "qc.cx(2,0)               \n",
        "qc.u3(np.pi/2,0,3*np.pi/4,0)\n",
        "qc.u3(np.pi/2,0,np.pi,2) \n",
        "qc.cx(3,1)             #\n",
        "qc.u3(np.pi/2,0,-np.pi/4,3) \n",
        "qc.draw() "
      ],
      "outputs": [
        {
          "output_type": "execute_result",
          "execution_count": 22,
          "data": {
            "image/png": "[encoded data removed]",
            "text/plain": [
              "<Figure size 960.792x264.88 with 1 Axes>"
            ]
          },
          "metadata": {}
        }
      ],
      "execution_count": 22,
      "metadata": {}
    },
    {
      "cell_type": "code",
      "source": [
        "check_circuit(qc)"
      ],
      "outputs": [
        {
          "output_type": "stream",
          "name": "stdout",
          "text": [
            "Circuit stats:\n",
            "||U-V||_2 = 1.6370979769189543e-15\n",
            "(U is the reference unitary, V is yours, and the global phase has been removed from both of them).\n",
            "Cost is 50\n",
            "\n",
            "Great! Your circuit meets all the constrains.\n",
            "Your score is 50. The lower, the better!\n",
            "Feel free to submit your answer and remember you can re-submit a new circuit at any time!\n"
          ]
        }
      ],
      "execution_count": 23,
      "metadata": {}
    },
    {
      "cell_type": "markdown",
      "source": [
        "We improve the cost from 54 to 50 without loss of precision! Now, we can reduce more the circuit using the following identity to exchange control and target of a C-NOT:"
      ],
      "metadata": {}
    },
    {
      "cell_type": "code",
      "source": [
        "#The best property of the world \n",
        "qc_prop = QuantumCircuit(2)\n",
        "qc_prop.cx(0,1)\n",
        "qc_prop.barrier()\n",
        "qc_prop.h([0,1])\n",
        "qc_prop.cx(1,0)\n",
        "qc_prop.h([0,1])\n",
        "qc_prop.draw()"
      ],
      "outputs": [
        {
          "output_type": "execute_result",
          "execution_count": 24,
          "data": {
            "image/png": "[encoded data removed]",
            "text/plain": [
              "<Figure size 479.192x144.48 with 1 Axes>"
            ]
          },
          "metadata": {}
        }
      ],
      "execution_count": 24,
      "metadata": {}
    },
    {
      "cell_type": "code",
      "source": [
        "my_fun(execute(qc_prop, unitary_simulator).result().get_unitary())"
      ],
      "outputs": [
        {
          "output_type": "execute_result",
          "execution_count": 25,
          "data": {
            "text/plain": [
              "array([[1.+0.j, 0.+0.j, 0.+0.j, 0.+0.j],\n",
              "       [0.+0.j, 1.+0.j, 0.+0.j, 0.+0.j],\n",
              "       [0.+0.j, 0.+0.j, 1.+0.j, 0.+0.j],\n",
              "       [0.+0.j, 0.+0.j, 0.+0.j, 1.+0.j]])"
            ]
          },
          "metadata": {}
        }
      ],
      "execution_count": 25,
      "metadata": {}
    },
    {
      "cell_type": "code",
      "source": [
        "qc = QuantumCircuit(4)\n",
        "\n",
        "qc.u3(np.pi/2,-3*np.pi/4,np.pi,1) \n",
        "qc.cx(0,2)  \n",
        "qc.cx(1,0) \n",
        "qc.u3(np.pi/2,-np.pi/2,np.pi/2,0) \n",
        "qc.cx(0,2)         \n",
        "qc.u3(np.pi/4,np.pi/2,-np.pi/2,0) \n",
        "qc.cx(1,3)      \n",
        "qc.u3(np.pi/2,0,np.pi,1) \n",
        "qc.u3(3*np.pi/4,-np.pi/2,np.pi/2,3) \n",
        "\n",
        "qc.draw() "
      ],
      "outputs": [
        {
          "output_type": "execute_result",
          "execution_count": 26,
          "data": {
            "image/png": "[encoded data removed]",
            "text/plain": [
              "<Figure size 780.192x264.88 with 1 Axes>"
            ]
          },
          "metadata": {}
        }
      ],
      "execution_count": 26,
      "metadata": {}
    },
    {
      "cell_type": "markdown",
      "source": [
        "Making a final check, we obtain a cost of 45! That is, an implementation of $U$ with only $4$ C-NOTs and $5$ $u3$ gates."
      ],
      "metadata": {}
    },
    {
      "cell_type": "code",
      "source": [
        "check_circuit(qc)"
      ],
      "outputs": [
        {
          "output_type": "stream",
          "name": "stdout",
          "text": [
            "Circuit stats:\n",
            "||U-V||_2 = 1.5226109532611476e-15\n",
            "(U is the reference unitary, V is yours, and the global phase has been removed from both of them).\n",
            "Cost is 45\n",
            "\n",
            "Great! Your circuit meets all the constrains.\n",
            "Your score is 45. The lower, the better!\n",
            "Feel free to submit your answer and remember you can re-submit a new circuit at any time!\n"
          ]
        }
      ],
      "execution_count": 27,
      "metadata": {}
    },
    {
      "cell_type": "code",
      "source": [],
      "outputs": [],
      "execution_count": null,
      "metadata": {}
    },
    {
      "cell_type": "code",
      "source": [],
      "outputs": [],
      "execution_count": null,
      "metadata": {}
    }
  ],
  "metadata": {
    "kernelspec": {
      "display_name": "Python 3",
      "language": "python",
      "name": "python3"
    },
    "language_info": {
      "codemirror_mode": {
        "name": "ipython",
        "version": 3
      },
      "file_extension": ".py",
      "mimetype": "text/x-python",
      "name": "python",
      "nbconvert_exporter": "python",
      "pygments_lexer": "ipython3",
      "version": "3.7.6"
    },
    "nteract": {
      "version": "0.23.1"
    }
  },
  "nbformat": 4,
  "nbformat_minor": 4
}